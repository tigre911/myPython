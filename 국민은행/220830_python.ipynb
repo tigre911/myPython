{
 "cells": [
  {
   "cell_type": "code",
   "execution_count": 30,
   "id": "92f561f8",
   "metadata": {},
   "outputs": [
    {
     "data": {
      "text/plain": [
       "'C:\\\\KB_workspace\\\\python'"
      ]
     },
     "execution_count": 30,
     "metadata": {},
     "output_type": "execute_result"
    }
   ],
   "source": [
    "import os\n",
    "os.getcwd()"
   ]
  },
  {
   "cell_type": "markdown",
   "id": "78b24626",
   "metadata": {},
   "source": [
    "### Object (instance, class)\n",
    "- 파이썬에서는 모든 것이 Object이다\n",
    "- Object는 프로그램에서 명령을 수행할 수 있는 것\n",
    "- 어떤 일(명령)을 처리할 수 있는가?에 따라 다양한 객체가 존재\n",
    "- type(instance) -> class"
   ]
  },
  {
   "cell_type": "markdown",
   "id": "754c5a38",
   "metadata": {},
   "source": [
    "1) python의 기본적으로 제공되는 class와 그것의 instance 예를 적어보세요."
   ]
  },
  {
   "cell_type": "code",
   "execution_count": null,
   "id": "4ada28e4",
   "metadata": {},
   "outputs": [],
   "source": [
    "int, float, bool, str, list, set, dict, range(5)"
   ]
  },
  {
   "cell_type": "code",
   "execution_count": null,
   "id": "d8c00c83",
   "metadata": {},
   "outputs": [],
   "source": [
    "module, function => object"
   ]
  },
  {
   "cell_type": "markdown",
   "id": "61445e44",
   "metadata": {},
   "source": [
    "python 객체(Object)에게 명령을 내리는 방법에는 다음과 같은 것이 있다\n",
    "- 연산자\n",
    "- 객체.기능(), python 내장함수"
   ]
  },
  {
   "cell_type": "markdown",
   "id": "9627e238",
   "metadata": {},
   "source": [
    "2) 연산자의 종류 및 사용 예를 적어보세요."
   ]
  },
  {
   "cell_type": "markdown",
   "id": "95d0bbab",
   "metadata": {},
   "source": [
    "- False로 취급받는 객체 : 0, 0.0, None, (), [], {}, '', \"\", set(), False\n",
    "- True로 취급받는 객체 : False 취급받는 객체가 아닌 모든 것"
   ]
  },
  {
   "cell_type": "code",
   "execution_count": 5,
   "id": "37d7e9de",
   "metadata": {},
   "outputs": [
    {
     "data": {
      "text/plain": [
       "(True, False, False)"
      ]
     },
     "execution_count": 5,
     "metadata": {},
     "output_type": "execute_result"
    }
   ],
   "source": [
    "bool(3.24), bool(0.0), bool(None)"
   ]
  },
  {
   "cell_type": "code",
   "execution_count": 6,
   "id": "6bc22248",
   "metadata": {},
   "outputs": [
    {
     "name": "stdout",
     "output_type": "stream",
     "text": [
      "1000\n",
      "13 7 30 3.3333333333333335 3 1\n",
      "True True False True False False\n",
      "3 10 False\n",
      "True True False\n",
      "2 11 -11\n"
     ]
    }
   ],
   "source": [
    "a, b = 10, 3\n",
    "\n",
    "print(a**b)  # 거듭제곱\n",
    "print(a+b, a-b, a*b, a/b, a//b, a%b)     # 산술연산\n",
    "print(a>b, a>=b, a==b, a!=b, a<b, a<=b)  # 비교연산\n",
    "print(a and b, a or b, not a)            # 논리연산 - a, b가 True/False일 때\n",
    "print(True and True, True or False, not True)\n",
    "print(a & b, a | b, ~a)  # bit 연산"
   ]
  },
  {
   "cell_type": "code",
   "execution_count": 9,
   "id": "74ace034",
   "metadata": {},
   "outputs": [
    {
     "data": {
      "text/plain": [
       "'soyoung'"
      ]
     },
     "execution_count": 9,
     "metadata": {},
     "output_type": "execute_result"
    }
   ],
   "source": [
    "a, b = 'so', 'young'\n",
    "a + b"
   ]
  },
  {
   "cell_type": "code",
   "execution_count": null,
   "id": "77b33d6a",
   "metadata": {},
   "outputs": [],
   "source": [
    "# a and b : a가 False이면 a를 반환, a가 True이면 b를 반환\n",
    "# a or b  : a가 True이면 a를 반환, a가 False이면 b를 반환"
   ]
  },
  {
   "cell_type": "markdown",
   "id": "12ca0072",
   "metadata": {},
   "source": [
    "객체가 가지고 있는 기능을 알아야 함!\n",
    "- dir(객체) : 객체의 속성 및 기능 목록을 확인\n",
    "- help(객체) : 좀 더 자세한 객체의 설명\n",
    "- api 문서에서 찾아야 함"
   ]
  },
  {
   "cell_type": "markdown",
   "id": "1cf9a5ca",
   "metadata": {},
   "source": [
    "str, list, tuple, set, dict : container\n",
    "- sequence type : str, tuple, list, range\n",
    "  - 연산 : a + b, a * 정수, index개념을 사용한 연산 (subscription, slicing)=> [index]\n",
    "- set type : set\n",
    "  - 연산 : 합집합, 교집합, 차집합 \n",
    "- mappings type : dict\n",
    "  - key를 사용한 연산 [key]"
   ]
  },
  {
   "cell_type": "code",
   "execution_count": null,
   "id": "6583461e",
   "metadata": {},
   "outputs": [],
   "source": [
    "# iterable, iterator\n",
    "# iterator == iterable\n",
    "# api 문서 - 반복할 수 있는 개체에 대해 iterable 이라고 함\n",
    "# next(객체) - iterator\n",
    "# iter(개체) - iterable, iterator"
   ]
  },
  {
   "cell_type": "code",
   "execution_count": 15,
   "id": "e9817c4a",
   "metadata": {},
   "outputs": [
    {
     "name": "stdout",
     "output_type": "stream",
     "text": [
      "[<class 'int'>, <class 'int'>, <class 'int'>]\n",
      "2022 8 30\n"
     ]
    }
   ],
   "source": [
    "# str.split() 사용하지 말 것, indexing (subsctiption, slicing)을 사용\n",
    "A = '2022-08-30'\n",
    "#year, month, day = # 정수 세 개\n",
    "#year, month, day = int(A[:4]), int(A[5:7]), int(A[8:])\n",
    "#year, month, day = int(A[0:4]), int(A[5:7]), int(A[8:10])\n",
    "#year, month, day = int(A[:4]), int(A[5:7]), int(A[-2:])\n",
    "\n",
    "# map\n",
    "#year, month, day = map(int, [A[:4], A[5:7], A[8:]])\n",
    "\n",
    "# comprehension\n",
    "year, month, day = [int(x) for x in [A[:4], A[5:7], A[8:]]]\n",
    "\n",
    "print([type(x) for x in [year, month, day]])\n",
    "print(year, month, day)"
   ]
  },
  {
   "cell_type": "code",
   "execution_count": 22,
   "id": "3c2035eb",
   "metadata": {},
   "outputs": [
    {
     "name": "stdout",
     "output_type": "stream",
     "text": [
      "[[7, 8, 9], [4, 5, 6], [1, 2, 3]]\n",
      "[[9, 8, 7], [6, 5, 4], [3, 2, 1]]\n"
     ]
    }
   ],
   "source": [
    "B = [[1,2,3], [4,5,6], [7,8,9]]\n",
    "\n",
    "C = B[::-1] # B를 사용하여 작성 (indexing-slice) # [[7,8,9], [4,5,6], [1,2,3]]\n",
    "D = [x[::-1] for x in C]   # [[9,8,7], [6,5,4], [3,2,1]]\n",
    "#D = [B[2][::-1],B[1][::-1],B[0][::-1]]\n",
    "print(C, D, sep='\\n')"
   ]
  },
  {
   "cell_type": "code",
   "execution_count": 25,
   "id": "54da5bdb",
   "metadata": {},
   "outputs": [
    {
     "name": "stdout",
     "output_type": "stream",
     "text": [
      "[1, 4, 3, 4, 8, 6, 2, 8, 9]\n"
     ]
    }
   ],
   "source": [
    "B = [[1,4,3], [4,8,6], [2,8,9]]\n",
    "\n",
    "C = [y for x in B for y in x ] # B를 사용해서!    # [1,4,3,4,8,6,2,8,9]\n",
    "print(C)"
   ]
  },
  {
   "cell_type": "code",
   "execution_count": 29,
   "id": "08852073",
   "metadata": {},
   "outputs": [
    {
     "name": "stdout",
     "output_type": "stream",
     "text": [
      "[2, 4, 6, 8]\n"
     ]
    }
   ],
   "source": [
    "B = [[1,4,3], [4,8,6], [2,8,9]]\n",
    "\n",
    "C = {y for x in B for y in x if not y%2} # 2의 배수  4, 4, 8, 6, 2, 8 -> [2, 4, 6, 8]\n",
    "C = sorted(C)\n",
    "print(C)"
   ]
  },
  {
   "cell_type": "markdown",
   "id": "33d48fe7",
   "metadata": {},
   "source": [
    "3) python에서 제공하는 내장함수에는 무엇이 있을까요?\n",
    "- 함수 prototype, parameter, return\n",
    "- 예) sum(iterable, /, start=0), iterable : 반복가능 객체, start=0 : 초기값, return : iterable에 포함된 객체들의 합계, sum(range(1, 11)) => 55"
   ]
  },
  {
   "cell_type": "code",
   "execution_count": 5,
   "id": "1d59069a",
   "metadata": {},
   "outputs": [
    {
     "data": {
      "text/plain": [
       "5"
      ]
     },
     "execution_count": 5,
     "metadata": {},
     "output_type": "execute_result"
    }
   ],
   "source": [
    "# abs(x, /) \n",
    "# x : 인자(절대값을 적용할 수), return : x의 절대값\n",
    "abs(-5)  # x : positional only parameter 앞의 인자를 positional로 받겠다"
   ]
  },
  {
   "cell_type": "code",
   "execution_count": 7,
   "id": "958ac237",
   "metadata": {},
   "outputs": [
    {
     "data": {
      "text/plain": [
       "4"
      ]
     },
     "execution_count": 7,
     "metadata": {},
     "output_type": "execute_result"
    }
   ],
   "source": [
    "# pow(base, exp, mod=None) \n",
    "# base : 거듭제곱할 수, exp : 승, return : base 의 exp 거듭제곱 \n",
    "# mod가 있는 경우 base의 exp 거듭제곱을 mod값으로 나눈 나머지\n",
    "pow(-2, 2)"
   ]
  },
  {
   "cell_type": "code",
   "execution_count": 11,
   "id": "49e5c5a1",
   "metadata": {},
   "outputs": [
    {
     "data": {
      "text/plain": [
       "3"
      ]
     },
     "execution_count": 11,
     "metadata": {},
     "output_type": "execute_result"
    }
   ],
   "source": [
    "# len(obj, /) : container object의 길이\n",
    "len([1,2,3])"
   ]
  },
  {
   "cell_type": "code",
   "execution_count": 13,
   "id": "8eddaf43",
   "metadata": {},
   "outputs": [
    {
     "data": {
      "text/plain": [
       "8"
      ]
     },
     "execution_count": 13,
     "metadata": {},
     "output_type": "execute_result"
    }
   ],
   "source": [
    "# max(iterable) : 최댓값\n",
    "# min(iterable) : 최솟값\n",
    "# max(arg1, arg2, *args, ...)\n",
    "# min(arg1, arg2, *args, ...)\n",
    "# *args : var positional parameter\n",
    "max(3, 5, 7, 2, 3, 8, 4, 5)  # arg1=3, arg2=5, args=(7,2,3,8,4,5)"
   ]
  },
  {
   "cell_type": "code",
   "execution_count": 17,
   "id": "6603f9e5",
   "metadata": {},
   "outputs": [
    {
     "data": {
      "text/plain": [
       "2"
      ]
     },
     "execution_count": 17,
     "metadata": {},
     "output_type": "execute_result"
    }
   ],
   "source": [
    "a = [3, 5, 7, 2, 3, 8, 4, 5]\n",
    "min(a)"
   ]
  },
  {
   "cell_type": "code",
   "execution_count": 21,
   "id": "0507654e",
   "metadata": {},
   "outputs": [
    {
     "name": "stdout",
     "output_type": "stream",
     "text": [
      "123 123.46 150.0\n"
     ]
    }
   ],
   "source": [
    "# round(number, ndigits=None) \n",
    "# number : 반올림할 수, ndigits = 소수점 자리까지 표시 default=0 \n",
    "# return: number의 소숫점 자리수까지 반올림한 값\n",
    "a = round(123.4567)\n",
    "b = round(123.4567, 2)\n",
    "c = round(145.567, -1)\n",
    "print(a, b, c)"
   ]
  },
  {
   "cell_type": "code",
   "execution_count": 25,
   "id": "4b8a9edb",
   "metadata": {},
   "outputs": [
    {
     "data": {
      "text/plain": [
       "[6, 5, 3, 2]"
      ]
     },
     "execution_count": 25,
     "metadata": {},
     "output_type": "execute_result"
    }
   ],
   "source": [
    "# sorted(iterable, /, *, key=None, reverse=False)\n",
    "# Return a new list containing all items from the iterable in ascending order.\n",
    "# *, : 뒤에 있는 key, reverse 를 keyword only parameter\n",
    "sorted([5,6,3,2], reverse=True)"
   ]
  },
  {
   "cell_type": "code",
   "execution_count": 32,
   "id": "7f6e6a31",
   "metadata": {},
   "outputs": [
    {
     "data": {
      "text/plain": [
       "[(3, 6)]"
      ]
     },
     "execution_count": 32,
     "metadata": {},
     "output_type": "execute_result"
    }
   ],
   "source": [
    "# zip(*iterables) : 개수가 같은 자료형을 묶는 함수\n",
    "# *iterables : 여러 개 iterable의 positional 나열\n",
    "# return : next()할 때 각 iterable의 같은 index 위치 item을 tuple로 묶어 return \n",
    "# zip은 iterator\n",
    "a, b = (1,2,3), (4,5,6)\n",
    "z = zip(a, b)\n",
    "a1 = next(z)\n",
    "a2 = next(z)\n",
    "#a3 = next(z)\n",
    "#a4 = next(z)  # StopIteration \n",
    "#a5 = next(z)\n",
    "list(z)"
   ]
  },
  {
   "cell_type": "code",
   "execution_count": 34,
   "id": "c363f8ee",
   "metadata": {},
   "outputs": [
    {
     "data": {
      "text/plain": [
       "[[1, 4, 7], [2, 5, 8], [3, 6, 9]]"
      ]
     },
     "execution_count": 34,
     "metadata": {},
     "output_type": "execute_result"
    }
   ],
   "source": [
    "a = [[1,2,3], [4,5,6], [7,8,9]]\n",
    "#b = [list(i) for i in zip(a[0],a[1],a[2])]    # [[1,4,7], [2,5,8], [3,6,9]]\n",
    "b = [list(i) for i in zip(*a)]  # argument unpack\n",
    "b"
   ]
  },
  {
   "cell_type": "code",
   "execution_count": 37,
   "id": "dd7fb88a",
   "metadata": {},
   "outputs": [
    {
     "name": "stdout",
     "output_type": "stream",
     "text": [
      "(1, 2, 3) 1 2 3\n",
      "(1, 2, 3) 1 2 3\n"
     ]
    }
   ],
   "source": [
    "# pack, unpack - python의 꽃 중에 한가지\n",
    "# name pack/unpack\n",
    "a = 1,2,3   # pack\n",
    "x, y, z = a # unpack\n",
    "print(a, x, y, z)\n",
    "\n",
    "# argument pack/unpack\n",
    "a = 1, 2, 3\n",
    "print(a, *a)  # argument unpack"
   ]
  },
  {
   "cell_type": "code",
   "execution_count": 38,
   "id": "1e59aff0",
   "metadata": {},
   "outputs": [
    {
     "name": "stdout",
     "output_type": "stream",
     "text": [
      "<class 'tuple'> (1, 2, 3, 4)\n"
     ]
    }
   ],
   "source": [
    "# argument pack\n",
    "def funcA(*a):\n",
    "    print(type(a), a)\n",
    "\n",
    "funcA(1,2,3,4)"
   ]
  },
  {
   "cell_type": "code",
   "execution_count": 39,
   "id": "e89f49d5",
   "metadata": {},
   "outputs": [
    {
     "name": "stdout",
     "output_type": "stream",
     "text": [
      "<class 'dict'> {'A': 10, 'B': 20, 'C': 30}\n"
     ]
    }
   ],
   "source": [
    "# argument pack - dict\n",
    "def funcB(**a):\n",
    "    print(type(a), a)\n",
    "    \n",
    "funcB(A=10, B=20, C=30)"
   ]
  },
  {
   "cell_type": "code",
   "execution_count": 41,
   "id": "bff85a46",
   "metadata": {},
   "outputs": [
    {
     "data": {
      "text/plain": [
       "'my item : color=red, price=10, unit=20'"
      ]
     },
     "metadata": {},
     "output_type": "display_data"
    },
    {
     "data": {
      "text/plain": [
       "'my item : color=red, price=10, unit=20'"
      ]
     },
     "metadata": {},
     "output_type": "display_data"
    }
   ],
   "source": [
    "# argument unpack - dict\n",
    "mydata = {'price': 10, 'unit': 20, 'color': 'red'}\n",
    "mylist = [10, 20, 'red']\n",
    "A = 'my item : color={color}, price={price}, unit={unit}'.format(**mydata)\n",
    "B = 'my item : color={2}, price={0}, unit={1}'.format(*mylist)\n",
    "display(A, B)"
   ]
  },
  {
   "cell_type": "code",
   "execution_count": 46,
   "id": "6ed56f98",
   "metadata": {},
   "outputs": [
    {
     "data": {
      "text/plain": [
       "(0, 'red')"
      ]
     },
     "execution_count": 46,
     "metadata": {},
     "output_type": "execute_result"
    }
   ],
   "source": [
    "# enumerate(iterable, start=0)\n",
    "# (0, seq[0]), (1, seq[1]), (2, seq[2]), ...\n",
    "# iterator\n",
    "A = enumerate(['red', 'blue', 'green'])\n",
    "next(A)"
   ]
  },
  {
   "cell_type": "code",
   "execution_count": 48,
   "id": "4c84d8bf",
   "metadata": {},
   "outputs": [
    {
     "data": {
      "text/plain": [
       "2022"
      ]
     },
     "execution_count": 48,
     "metadata": {},
     "output_type": "execute_result"
    }
   ],
   "source": [
    "# map(function, *iterables)\n",
    "# iterator\n",
    "A = map(int, ['2022', '8', '30'])\n",
    "next(A)"
   ]
  },
  {
   "cell_type": "code",
   "execution_count": 49,
   "id": "f66012f8",
   "metadata": {},
   "outputs": [
    {
     "data": {
      "text/plain": [
       "['p', 'y', 't', 'h', 'o', 'n']"
      ]
     },
     "execution_count": 49,
     "metadata": {},
     "output_type": "execute_result"
    }
   ],
   "source": [
    "# list(iterable=(), /)    # iterable = 반복가능 객체 , return = iterable에 포함된 객체들을 list화\n",
    "list('python')"
   ]
  },
  {
   "cell_type": "code",
   "execution_count": 51,
   "id": "6bc533c3",
   "metadata": {},
   "outputs": [
    {
     "data": {
      "text/plain": [
       "['p', 'y', 't', 'h', 'o', 'n']"
      ]
     },
     "execution_count": 51,
     "metadata": {},
     "output_type": "execute_result"
    }
   ],
   "source": [
    "mylist = []\n",
    "for x in 'python':\n",
    "    mylist.append(x)\n",
    "mylist"
   ]
  },
  {
   "cell_type": "markdown",
   "id": "d7cd7e6a",
   "metadata": {},
   "source": [
    "4) str, list, dict 의 주요 method 를 적어보세요\n",
    "- str: endswith, isdecimal, islower, isupper, join, lower, lstrip, rsplit, rstrip, split, startswith, strip, upper ==> return이 존재\n",
    "- list: append, insert, extend, remove, sort ==> return None, pop ==> 삭제 item\n",
    "- dict: keys, values, items, get"
   ]
  },
  {
   "cell_type": "code",
   "execution_count": 54,
   "id": "36a6a3d1",
   "metadata": {},
   "outputs": [
    {
     "name": "stdout",
     "output_type": "stream",
     "text": [
      "['__add__', '__class__', '__contains__', '__delattr__', '__dir__', '__doc__', '__eq__', '__format__', '__ge__', '__getattribute__', '__getitem__', '__getnewargs__', '__gt__', '__hash__', '__init__', '__init_subclass__', '__iter__', '__le__', '__len__', '__lt__', '__mod__', '__mul__', '__ne__', '__new__', '__reduce__', '__reduce_ex__', '__repr__', '__rmod__', '__rmul__', '__setattr__', '__sizeof__', '__str__', '__subclasshook__', 'capitalize', 'casefold', 'center', 'count', 'encode', 'endswith', 'expandtabs', 'find', 'format', 'format_map', 'index', 'isalnum', 'isalpha', 'isascii', 'isdecimal', 'isdigit', 'isidentifier', 'islower', 'isnumeric', 'isprintable', 'isspace', 'istitle', 'isupper', 'join', 'ljust', 'lower', 'lstrip', 'maketrans', 'partition', 'removeprefix', 'removesuffix', 'replace', 'rfind', 'rindex', 'rjust', 'rpartition', 'rsplit', 'rstrip', 'split', 'splitlines', 'startswith', 'strip', 'swapcase', 'title', 'translate', 'upper', 'zfill']\n"
     ]
    }
   ],
   "source": [
    "print(dir(str))"
   ]
  },
  {
   "cell_type": "code",
   "execution_count": 55,
   "id": "7e3cb513",
   "metadata": {},
   "outputs": [
    {
     "name": "stdout",
     "output_type": "stream",
     "text": [
      "['__add__', '__class__', '__class_getitem__', '__contains__', '__delattr__', '__delitem__', '__dir__', '__doc__', '__eq__', '__format__', '__ge__', '__getattribute__', '__getitem__', '__gt__', '__hash__', '__iadd__', '__imul__', '__init__', '__init_subclass__', '__iter__', '__le__', '__len__', '__lt__', '__mul__', '__ne__', '__new__', '__reduce__', '__reduce_ex__', '__repr__', '__reversed__', '__rmul__', '__setattr__', '__setitem__', '__sizeof__', '__str__', '__subclasshook__', 'append', 'clear', 'copy', 'count', 'extend', 'index', 'insert', 'pop', 'remove', 'reverse', 'sort']\n"
     ]
    }
   ],
   "source": [
    "print(dir(list))"
   ]
  },
  {
   "cell_type": "code",
   "execution_count": 56,
   "id": "ccdc5dab",
   "metadata": {},
   "outputs": [
    {
     "name": "stdout",
     "output_type": "stream",
     "text": [
      "['__class__', '__class_getitem__', '__contains__', '__delattr__', '__delitem__', '__dir__', '__doc__', '__eq__', '__format__', '__ge__', '__getattribute__', '__getitem__', '__gt__', '__hash__', '__init__', '__init_subclass__', '__ior__', '__iter__', '__le__', '__len__', '__lt__', '__ne__', '__new__', '__or__', '__reduce__', '__reduce_ex__', '__repr__', '__reversed__', '__ror__', '__setattr__', '__setitem__', '__sizeof__', '__str__', '__subclasshook__', 'clear', 'copy', 'fromkeys', 'get', 'items', 'keys', 'pop', 'popitem', 'setdefault', 'update', 'values']\n"
     ]
    }
   ],
   "source": [
    "print(dir(dict))"
   ]
  },
  {
   "cell_type": "markdown",
   "id": "d3ea5719",
   "metadata": {},
   "source": [
    "프로그램의 흐름제어\n",
    "- 분기문(statement) : if\n",
    "- 반복문(statement) : for, while\n",
    "- 반복문과 같이 사용하는 break, continue"
   ]
  },
  {
   "cell_type": "code",
   "execution_count": null,
   "id": "355628e4",
   "metadata": {},
   "outputs": [],
   "source": [
    "if expression1 :\n",
    "    block  # \n",
    "[elif expression2 :\n",
    "    block ] \n",
    "[elif expression3 :\n",
    "    block ]\n",
    "[else:\n",
    "    block]"
   ]
  },
  {
   "cell_type": "markdown",
   "id": "4166ff87",
   "metadata": {},
   "source": [
    "5) A 가 'M', 'm', 'F', 'f', 그외 - '남자', '여자', '잘못입력'"
   ]
  },
  {
   "cell_type": "code",
   "execution_count": 60,
   "id": "712a405b",
   "metadata": {},
   "outputs": [
    {
     "name": "stdout",
     "output_type": "stream",
     "text": [
      "잘못입력\n"
     ]
    }
   ],
   "source": [
    "A = 'x'\n",
    "B = A.upper()\n",
    "if B == 'M':\n",
    "    print('남자')\n",
    "elif B == 'F':\n",
    "    print('여자')\n",
    "else:\n",
    "    print('잘못입력')"
   ]
  },
  {
   "cell_type": "code",
   "execution_count": 61,
   "id": "01229f26",
   "metadata": {},
   "outputs": [
    {
     "name": "stdout",
     "output_type": "stream",
     "text": [
      "잘못된 입력\n"
     ]
    }
   ],
   "source": [
    "A = 'x'\n",
    "B = A.upper()\n",
    "print(\"여자\" if B == \"F\" else \"남자\" if B == \"M\" else \"잘못된 입력\" )"
   ]
  },
  {
   "cell_type": "code",
   "execution_count": 66,
   "id": "c0eb9851",
   "metadata": {},
   "outputs": [
    {
     "data": {
      "text/plain": [
       "'잘못입력'"
      ]
     },
     "execution_count": 66,
     "metadata": {},
     "output_type": "execute_result"
    }
   ],
   "source": [
    "# dict 를 이용해서 풀이\n",
    "A = 'x'\n",
    "dictmf = {'M': '남자', 'F': '여자'}\n",
    "dictmf.get(A.upper(),'잘못입력')"
   ]
  },
  {
   "cell_type": "markdown",
   "id": "6cbdb65d",
   "metadata": {},
   "source": [
    "6) 합계 구하기 프로그램 작성 \n",
    "- 반복문 사용하기"
   ]
  },
  {
   "cell_type": "code",
   "execution_count": 84,
   "id": "5ca5d525",
   "metadata": {},
   "outputs": [
    {
     "name": "stdout",
     "output_type": "stream",
     "text": [
      "20\n"
     ]
    }
   ],
   "source": [
    "A = [1,6,8,2,3]\n",
    "tot = 0\n",
    "for x in A:\n",
    "    tot += x\n",
    "print(tot)"
   ]
  },
  {
   "cell_type": "code",
   "execution_count": 68,
   "id": "6595f39e",
   "metadata": {},
   "outputs": [
    {
     "data": {
      "text/plain": [
       "20"
      ]
     },
     "execution_count": 68,
     "metadata": {},
     "output_type": "execute_result"
    }
   ],
   "source": [
    "A = [1,6,8,2,3]\n",
    "sum(A)"
   ]
  },
  {
   "cell_type": "markdown",
   "id": "c74d9067",
   "metadata": {},
   "source": [
    "- func_sum 함수로 작성하기"
   ]
  },
  {
   "cell_type": "code",
   "execution_count": 83,
   "id": "a1240547",
   "metadata": {},
   "outputs": [
    {
     "name": "stdout",
     "output_type": "stream",
     "text": [
      "(2, 4, 3, 6, 7)\n"
     ]
    },
    {
     "data": {
      "text/plain": [
       "22"
      ]
     },
     "execution_count": 83,
     "metadata": {},
     "output_type": "execute_result"
    }
   ],
   "source": [
    "def func_sum(*A):\n",
    "    print(A)\n",
    "    tot = 0\n",
    "    for x in A:\n",
    "        tot += x\n",
    "    return tot\n",
    "\n",
    "func_sum(2, 4, 3, 6, 7)"
   ]
  },
  {
   "cell_type": "code",
   "execution_count": 86,
   "id": "eef13a2e",
   "metadata": {},
   "outputs": [
    {
     "name": "stdout",
     "output_type": "stream",
     "text": [
      "88 88 88 88 120 120 120 120 184 184 "
     ]
    }
   ],
   "source": [
    "import sys\n",
    "mylist = []\n",
    "for x in range(10):\n",
    "    mylist.append(x)\n",
    "    print(sys.getsizeof(mylist), end=' ')"
   ]
  },
  {
   "cell_type": "code",
   "execution_count": 70,
   "id": "e827605c",
   "metadata": {},
   "outputs": [
    {
     "name": "stdout",
     "output_type": "stream",
     "text": [
      "[[0, 0, 0], [0, 0, 0], [0, 0, 0]]\n"
     ]
    },
    {
     "data": {
      "text/plain": [
       "[[0, 0, 0, 'Yoon', 100], [0, 0, 0, 'Kim', 90], [0, 0, 0, 'Park', 80]]"
      ]
     },
     "execution_count": 70,
     "metadata": {},
     "output_type": "execute_result"
    }
   ],
   "source": [
    "# testA, testB 를 하나로 합치기\n",
    "testA = [['Yoon', 100], ['Kim', 90], ['Park', 80]]\n",
    "testB = [['Kim', 95], ['Park', 100], ['Yoon', 90]]\n",
    "\n",
    "testC = [[0]*3 for _ in range(len(testA))]\n",
    "print(testC)\n",
    "for i in range(3):\n",
    "    testC[i][0] = testA[i][0]\n",
    "    testC[i][1] = testA[i][1]\n",
    "    for j in range(3):\n",
    "        if testB[j][0] == testC[i][0]:\n",
    "            testC[i][2] = testB[j][1]\n",
    "testC\n",
    "# 출력\n",
    "# [['Yoon', 100, 90], ['Kim', 90, 95], ['Park', 80, 100]]"
   ]
  },
  {
   "cell_type": "code",
   "execution_count": 72,
   "id": "e8b7dc0d",
   "metadata": {},
   "outputs": [
    {
     "data": {
      "text/plain": [
       "[['Yoon', 100, 90], ['Kim', 90, 95], ['Park', 80, 100]]"
      ]
     },
     "execution_count": 72,
     "metadata": {},
     "output_type": "execute_result"
    }
   ],
   "source": [
    "testA = [['Yoon', 100], ['Kim', 90], ['Park', 80]]\n",
    "testB = [['Kim', 95], ['Park', 100], ['Yoon', 90]]\n",
    "\n",
    "testC = [[],[],[]]\n",
    "for i in range(3):\n",
    "    testC[i].extend(testA[i])\n",
    "    for j in range(3):\n",
    "        if testB[j][0] == testC[i][0]:\n",
    "            testC[i].append(testB[j][1])\n",
    "testC"
   ]
  },
  {
   "cell_type": "code",
   "execution_count": 77,
   "id": "9cee8c60",
   "metadata": {},
   "outputs": [
    {
     "data": {
      "text/plain": [
       "[['Yoon', 100, 90], ['Kim', 90, 95], ['Park', 80, 100]]"
      ]
     },
     "execution_count": 77,
     "metadata": {},
     "output_type": "execute_result"
    }
   ],
   "source": [
    "testA = [['Yoon', 100], ['Kim', 90], ['Park', 80]]\n",
    "testB = [['Kim', 95], ['Park', 100], ['Yoon', 90]]\n",
    "test_list = [i[:2] + j[1:2] for i in testA for j in testB if i[0]==j[0]]\n",
    "test_list"
   ]
  },
  {
   "cell_type": "code",
   "execution_count": 76,
   "id": "d376af89",
   "metadata": {},
   "outputs": [
    {
     "data": {
      "text/plain": [
       "[['Yoon', 100, 90], ['Kim', 90, 95], ['Park', 80, 100]]"
      ]
     },
     "execution_count": 76,
     "metadata": {},
     "output_type": "execute_result"
    }
   ],
   "source": [
    "testA = [['Yoon', 100], ['Kim', 90], ['Park', 80]]\n",
    "testB = [['Kim', 95], ['Park', 100], ['Yoon', 90]]\n",
    "test_list = [[n1, s1, s2] for n1, s1 in testA for n2, s2 in testB if n1==n2]\n",
    "test_list"
   ]
  },
  {
   "cell_type": "code",
   "execution_count": 78,
   "id": "62e83830",
   "metadata": {},
   "outputs": [
    {
     "name": "stdout",
     "output_type": "stream",
     "text": [
      "[['Yoon', 100, 90], ['Kim', 90, 95], ['Park', 80, 100]]\n"
     ]
    }
   ],
   "source": [
    "testA = [['Yoon', 100], ['Kim', 90], ['Park', 80]]\n",
    "testB = [['Kim', 95], ['Park', 100], ['Yoon', 90]]\n",
    "\n",
    "for a in testA:\n",
    "    for b in testB:\n",
    "        if a[0] == b[0]:\n",
    "            a.append(b[1])\n",
    "print(testA)"
   ]
  },
  {
   "cell_type": "markdown",
   "id": "e1cf07b4",
   "metadata": {},
   "source": [
    "7) list 내부의 모든 2를 제거하는 프로그램 작성\n",
    "- while 문 사용"
   ]
  },
  {
   "cell_type": "code",
   "execution_count": 91,
   "id": "816ce282",
   "metadata": {},
   "outputs": [
    {
     "name": "stdout",
     "output_type": "stream",
     "text": [
      "[1, 3, 1, 1, 3, 3, 1] 11\n"
     ]
    }
   ],
   "source": [
    "mylist = [1,2,3,1,1,2,2,3,3,2,1]\n",
    "\n",
    "i = 0\n",
    "cnt = 0\n",
    "while i < len(mylist):\n",
    "    cnt += 1\n",
    "    if mylist[i] == 2:\n",
    "        del mylist[i]\n",
    "    else:\n",
    "        i += 1\n",
    "\n",
    "print(mylist, cnt)  # [1, 3, 1, 1, 3, 3, 1]"
   ]
  },
  {
   "cell_type": "code",
   "execution_count": 92,
   "id": "799ab52d",
   "metadata": {},
   "outputs": [
    {
     "name": "stdout",
     "output_type": "stream",
     "text": [
      "[1, 3, 1, 1, 3, 3, 1] 4\n"
     ]
    }
   ],
   "source": [
    "mylist = [1,2,3,1,1,2,2,3,3,2,1]\n",
    "\n",
    "while 2 in mylist :   # mylist에 2가 있는 동안\n",
    "    mylist.remove(2)\n",
    "\n",
    "print(mylist, cnt)  # [1, 3, 1, 1, 3, 3, 1]"
   ]
  },
  {
   "cell_type": "code",
   "execution_count": 94,
   "id": "230c7dd0",
   "metadata": {},
   "outputs": [
    {
     "data": {
      "text/plain": [
       "[1, 3, 1, 1, 3, 3, 1]"
      ]
     },
     "execution_count": 94,
     "metadata": {},
     "output_type": "execute_result"
    }
   ],
   "source": [
    "mylist = [1,2,3,1,1,2,2,3,3,2,1]\n",
    "import pandas as pd\n",
    "\n",
    "s = pd.Series(mylist)\n",
    "s[s!=2].to_list()"
   ]
  },
  {
   "cell_type": "code",
   "execution_count": 97,
   "id": "78ce3b69",
   "metadata": {},
   "outputs": [
    {
     "name": "stdout",
     "output_type": "stream",
     "text": [
      "7 8 4 "
     ]
    }
   ],
   "source": [
    "mylist = [7, 8, 4, 10, 6, 7, 8]\n",
    "for x in mylist:\n",
    "    if x == 10: \n",
    "        break    \n",
    "    print(x, end=' ')\n",
    "\n",
    "# 7 8 4"
   ]
  },
  {
   "cell_type": "markdown",
   "id": "a7c1eedd",
   "metadata": {},
   "source": [
    "함수의 parameter, argument 정리\n",
    "- argument\n",
    "  - positional argument\n",
    "  - keyword argument\n",
    "  - default argument"
   ]
  },
  {
   "cell_type": "code",
   "execution_count": 107,
   "id": "3ee386a0",
   "metadata": {},
   "outputs": [
    {
     "name": "stdout",
     "output_type": "stream",
     "text": [
      "10 20 100\n",
      "10 20 100\n",
      "20 10 100\n",
      "20 10 40\n",
      "10 20 500\n"
     ]
    }
   ],
   "source": [
    "# a, b, c : positional or keyword parameter\n",
    "# c=100 : default argument\n",
    "def func(a, b, c=100):\n",
    "    print(a, b, c)\n",
    "\n",
    "func(10, 20)  # positional argument\n",
    "func(a=10, b=20)  # keyword argument\n",
    "func(b=10, a=20)\n",
    "func(c=40, b=10, a=20)\n",
    "func(10, 20, c=500)  # positional(앞), keyword(뒤) 섞어 사용 \n",
    "#func(a=10, 20, 30)   # SyntaxError: positional argument follows keyword argument"
   ]
  },
  {
   "cell_type": "markdown",
   "id": "199c11e2",
   "metadata": {},
   "source": [
    "- parameter 종류\n",
    "   - positional or keyword parameter : (a, b, c)\n",
    "   - positional only parameter : (a, b, /)\n",
    "   - keyword only parameter : (*, a, b)\n",
    "   - var-positional parameter : (*a, b, c), a = var-positional, b, c = keyword only\n",
    "   - var-keyword parameter : (a, **b) a = p or k, b = var-keyword "
   ]
  },
  {
   "cell_type": "code",
   "execution_count": 111,
   "id": "65243a70",
   "metadata": {},
   "outputs": [
    {
     "name": "stdout",
     "output_type": "stream",
     "text": [
      "50 10 50\n",
      "40 10 50\n",
      "20 30 50\n",
      "10 10 30\n",
      "20 30 40\n",
      "10 20 30\n",
      "300 200 100\n"
     ]
    }
   ],
   "source": [
    "def func(A, B=10, C=50):\n",
    "    print(A, B, C)\n",
    "\n",
    "func(50)\n",
    "func(A=40)\n",
    "func(A=20, B=30)\n",
    "func(A=10, C=30)\n",
    "func(A=20, B=30, C=40)\n",
    "func(10,20,30)\n",
    "func(C=100, B=200, A=300)"
   ]
  },
  {
   "cell_type": "markdown",
   "id": "0325d27a",
   "metadata": {},
   "source": [
    "다음 container 중 immutable 성격을 지닌 것은?\n",
    "```str, list, tuple, set, dict```\n"
   ]
  },
  {
   "cell_type": "code",
   "execution_count": 117,
   "id": "12b56fe4",
   "metadata": {},
   "outputs": [],
   "source": [
    "# str, tuple\n",
    "# int, float, bool\n",
    "A = 'Soyoung'\n",
    "# A[0] = 'K'     # TypeError: 'str' object does not support item assignment\n",
    "B = 1,2,3\n",
    "# B[0] = 100   # TypeError: 'tuple' object does not support item assignment\n",
    "\n",
    "# del A[0]   # TypeError: 'str' object doesn't support item deletion"
   ]
  },
  {
   "cell_type": "code",
   "execution_count": 118,
   "id": "8c93d81b",
   "metadata": {},
   "outputs": [
    {
     "data": {
      "text/plain": [
       "(1, 2, 3, 4, 5)"
      ]
     },
     "execution_count": 118,
     "metadata": {},
     "output_type": "execute_result"
    }
   ],
   "source": [
    "(1, 2, 3) + (4, 5)"
   ]
  },
  {
   "cell_type": "code",
   "execution_count": 119,
   "id": "782a289a",
   "metadata": {},
   "outputs": [
    {
     "data": {
      "text/plain": [
       "'Python3'"
      ]
     },
     "execution_count": 119,
     "metadata": {},
     "output_type": "execute_result"
    }
   ],
   "source": [
    "\"Python\" + '3'"
   ]
  },
  {
   "cell_type": "markdown",
   "id": "70d5a89d",
   "metadata": {},
   "source": [
    "7) 모듈 (file)\n",
    "- import 모듈명\n",
    "- import 모듈명 as 모듈닉네임\n",
    "- from 모듈명 import 함수명, 객체명"
   ]
  },
  {
   "cell_type": "code",
   "execution_count": 122,
   "id": "45c70ca5",
   "metadata": {},
   "outputs": [
    {
     "name": "stdout",
     "output_type": "stream",
     "text": [
      "3.0\n"
     ]
    }
   ],
   "source": [
    "# math 모듈을 import 해서, 모듈 내부의 sqrt 함수를 사용해  9에 대한 루트값 구하기\n",
    "import math\n",
    "print(math.sqrt(9))"
   ]
  },
  {
   "cell_type": "code",
   "execution_count": 123,
   "id": "a15dee9f",
   "metadata": {},
   "outputs": [
    {
     "name": "stdout",
     "output_type": "stream",
     "text": [
      "3.0\n"
     ]
    }
   ],
   "source": [
    "import math as mt\n",
    "print(mt.sqrt(9))"
   ]
  },
  {
   "cell_type": "code",
   "execution_count": 124,
   "id": "2d763c1d",
   "metadata": {},
   "outputs": [
    {
     "data": {
      "text/plain": [
       "3.0"
      ]
     },
     "execution_count": 124,
     "metadata": {},
     "output_type": "execute_result"
    }
   ],
   "source": [
    "from math import sqrt\n",
    "sqrt(9)"
   ]
  },
  {
   "cell_type": "code",
   "execution_count": 126,
   "id": "edc8acd9",
   "metadata": {},
   "outputs": [
    {
     "name": "stdout",
     "output_type": "stream",
     "text": [
      "내 고양이 somi는 1살이고, white이다\n",
      "내 고양이 tom는 10살이고, black이다\n"
     ]
    }
   ],
   "source": [
    "# 고양이 (Cat) 객체를 만들어 봅시다\n",
    "#- 이름(name), 나이(age), 색(color)\n",
    "\n",
    "class Cat:\n",
    "    def __init__(self, name, age, color):\n",
    "        self.name = name\n",
    "        self.age = age\n",
    "        self.color = color\n",
    "    \n",
    "    def info(self):\n",
    "        print(f'내 고양이 {self.name}는 {self.age}살이고, {self.color}이다')\n",
    "\n",
    "c = Cat('somi', 1, 'white')\n",
    "c.info()   #  내 고양이 somi는 흰색이고, 1살이다 \n",
    "\n",
    "d = Cat('tom', 10, 'black')\n",
    "d.info()   #  내 고양이 somi는 흰색이고, 1살이다 "
   ]
  }
 ],
 "metadata": {
  "kernelspec": {
   "display_name": "Python 3 (ipykernel)",
   "language": "python",
   "name": "python3"
  },
  "language_info": {
   "codemirror_mode": {
    "name": "ipython",
    "version": 3
   },
   "file_extension": ".py",
   "mimetype": "text/x-python",
   "name": "python",
   "nbconvert_exporter": "python",
   "pygments_lexer": "ipython3",
   "version": "3.9.13"
  }
 },
 "nbformat": 4,
 "nbformat_minor": 5
}
